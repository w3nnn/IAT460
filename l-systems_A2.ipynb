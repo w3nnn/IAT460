{
  "cells": [
    {
      "cell_type": "markdown",
      "metadata": {
        "id": "510oJSm2IXSW"
      },
      "source": [
        "<a href=\"https://colab.research.google.com/github/IAT-ComputationalCreativity-Spring2025/Week3-Rule-Based-Systems/blob/main/l-systems_colab.ipynb\" target=\"_parent\"><img src=\"https://colab.research.google.com/assets/colab-badge.svg\" alt=\"Open In Colab\"/></a>"
      ]
    },
    {
      "cell_type": "code",
      "source": [
        "from google.colab import drive\n",
        "drive.mount('/content/drive')"
      ],
      "metadata": {
        "colab": {
          "base_uri": "https://localhost:8080/"
        },
        "id": "IjD1DAT6In-c",
        "outputId": "6449fdec-fa59-4963-ecb7-3b0b2862f501"
      },
      "execution_count": 1,
      "outputs": [
        {
          "output_type": "stream",
          "name": "stdout",
          "text": [
            "Mounted at /content/drive\n"
          ]
        }
      ]
    },
    {
      "cell_type": "markdown",
      "metadata": {
        "id": "ILllNdtRIXSZ"
      },
      "source": [
        "# L-Systems (Lindenmayer Systems) Lab\n",
        "\n",
        "## Introduction\n",
        "\n",
        "L-Systems are parallel rewriting systems that were introduced by Aristid Lindenmayer in 1968. They are particularly useful for modeling plant growth and generating fractals. In this lab, we'll explore how to create various patterns using L-Systems.\n",
        "\n",
        "### Key Concepts:\n",
        "- **Axiom**: The initial state/string\n",
        "- **Production Rules**: Rules that define how to replace characters\n",
        "- **Iterations**: Number of times to apply the rules\n",
        "- **Turtle Graphics**: System for visualizing the L-System output\n",
        "\n",
        "Let's start by importing our required libraries:"
      ]
    },
    {
      "cell_type": "code",
      "execution_count": 2,
      "metadata": {
        "colab": {
          "base_uri": "https://localhost:8080/"
        },
        "id": "GTSJKfYhIXSa",
        "outputId": "84c8a402-cf8c-4bad-eaf1-f4493b7ef28e"
      },
      "outputs": [
        {
          "output_type": "stream",
          "name": "stdout",
          "text": [
            "Collecting ColabTurtle\n",
            "  Downloading ColabTurtle-2.1.0.tar.gz (6.8 kB)\n",
            "  Preparing metadata (setup.py) ... \u001b[?25l\u001b[?25hdone\n",
            "Building wheels for collected packages: ColabTurtle\n",
            "  Building wheel for ColabTurtle (setup.py) ... \u001b[?25l\u001b[?25hdone\n",
            "  Created wheel for ColabTurtle: filename=ColabTurtle-2.1.0-py3-none-any.whl size=7642 sha256=e5ec8885f6fce9678e24b717efd41caa663b3f1bbd5cb48b5b8d3596305c99b6\n",
            "  Stored in directory: /root/.cache/pip/wheels/f6/9e/81/137e7da25129474562d30f8660be599e5c8d79228cb747e5b9\n",
            "Successfully built ColabTurtle\n",
            "Installing collected packages: ColabTurtle\n",
            "Successfully installed ColabTurtle-2.1.0\n"
          ]
        }
      ],
      "source": [
        "! pip install ColabTurtle"
      ]
    },
    {
      "cell_type": "code",
      "execution_count": null,
      "metadata": {
        "id": "1TXLtjwAIXSb"
      },
      "outputs": [],
      "source": [
        "import ColabTurtle.Turtle as t\n",
        "from IPython.display import clear_output"
      ]
    },
    {
      "cell_type": "markdown",
      "metadata": {
        "id": "6NWu6xCbIXSb"
      },
      "source": [
        "## Part 1: Basic L-System Implementation\n",
        "\n",
        "First, let's implement our core L-System functions. These will be used throughout the lab to generate and draw various patterns."
      ]
    },
    {
      "cell_type": "code",
      "execution_count": null,
      "metadata": {
        "id": "OPJShSv_IXSc"
      },
      "outputs": [],
      "source": [
        "def create_l_system(iterations, axiom, rules):\n",
        "    \"\"\"Generate L-System instructions based on axiom and rules.\"\"\"\n",
        "    result = axiom\n",
        "    for _ in range(iterations):\n",
        "        new_string = \"\"\n",
        "        for char in result:\n",
        "            new_string += rules.get(char, char)\n",
        "        result = new_string\n",
        "    return result\n",
        "\n",
        "def draw_l_system(instructions, angle, distance):\n",
        "    \"\"\"Draw the L-System using turtle graphics.\n",
        "\n",
        "    Parameters:\n",
        "    - instructions: string of L-System commands\n",
        "    - angle: turning angle in degrees\n",
        "    - distance: forward movement distance\n",
        "    \"\"\"\n",
        "    stack = []\n",
        "    for cmd in instructions:\n",
        "        if cmd == 'F':  # Move forward and draw\n",
        "            t.forward(distance)\n",
        "        elif cmd == 'f':  # Move forward without drawing\n",
        "            t.penup()\n",
        "            t.forward(distance)\n",
        "            t.pendown()\n",
        "        elif cmd == '+':  # Turn right\n",
        "            t.right(angle)\n",
        "        elif cmd == '-':  # Turn left\n",
        "            t.left(angle)\n",
        "        elif cmd == '[':  # Save current state\n",
        "            stack.append((t.position(), t.heading()))\n",
        "        elif cmd == ']':  # Restore previous state\n",
        "            position, heading = stack.pop()\n",
        "            t.penup()\n",
        "            t.goto(position)\n",
        "            t.setheading(heading)\n",
        "            t.pendown()\n",
        "\n",
        "def setup_turtle():\n",
        "        t.initializeTurtle()\n",
        "        t.hideturtle()\n",
        "        t.speed(13)  # Fastest speed\n",
        "        t.penup()\n",
        "        t.goto(t.window_width() // 2, t.window_height() - 50)  # Start position\n",
        "        t.pendown()\n"
      ]
    },
    {
      "cell_type": "markdown",
      "metadata": {
        "id": "5w6yUhqrIXSc"
      },
      "source": [
        "## Exercise 1: Koch Curve\n",
        "\n",
        "The Koch curve is a classic example of a fractal pattern. Let's create it using our L-System:"
      ]
    },
    {
      "cell_type": "code",
      "execution_count": null,
      "metadata": {
        "id": "cnQ9bkAiIXSc"
      },
      "outputs": [],
      "source": [
        "# Koch curve parameters\n",
        "koch_axiom = \"F\"\n",
        "koch_rules = {\"F\": \"F+F-F-F+F\"}\n",
        "koch_iterations = 3\n",
        "koch_angle = 90\n",
        "\n",
        "# Generate and draw\n",
        "setup_turtle()\n",
        "t.pensize(2)\n",
        "koch_instructions = create_l_system(koch_iterations, koch_axiom, koch_rules)\n",
        "draw_l_system(koch_instructions, koch_angle, 5)"
      ]
    },
    {
      "cell_type": "markdown",
      "metadata": {
        "id": "1_1UXg1iIXSc"
      },
      "source": [
        "### Exercise 1 Tasks:\n",
        "1. Try modifying the number of iterations (start with small numbers like 2-4)\n",
        "2. Change the angle to 60 degrees and observe the difference\n",
        "3. Modify the rules to create your own variation\n",
        "4. Try changing the distance parameter\n",
        "\n",
        "Note: Be careful with high iteration numbers as they can create very complex patterns!"
      ]
    },
    {
      "cell_type": "markdown",
      "metadata": {
        "id": "0xuaYW0iIXSd"
      },
      "source": [
        "## Exercise 2: Plant Generation\n",
        "\n",
        "Now let's create a more complex L-System that generates plant-like structures. This system uses brackets to create branches:"
      ]
    },
    {
      "cell_type": "code",
      "execution_count": null,
      "metadata": {
        "id": "F5mrsRpJIXSd"
      },
      "outputs": [],
      "source": [
        "# Plant parameters\n",
        "plant_axiom = \"X\"\n",
        "plant_rules = {\n",
        "    \"X\": \"F+[[X]-X]-F[-FX]+X\",\n",
        "    \"F\": \"FF\"\n",
        "}\n",
        "plant_iterations = 4\n",
        "plant_angle = 25\n",
        "\n",
        "# Generate and draw\n",
        "setup_turtle()\n",
        "t.pensize(1)\n",
        "plant_instructions = create_l_system(plant_iterations, plant_axiom, plant_rules)\n",
        "draw_l_system(plant_instructions, plant_angle, 10)"
      ]
    },
    {
      "cell_type": "markdown",
      "metadata": {
        "id": "3B0fM5-aIXSd"
      },
      "source": [
        "## Challenge: Create a Fractal Tree\n",
        "\n",
        "Now it's your turn to experiment! Below is a template for creating a fractal tree. Try modifying the parameters to create different tree shapes:"
      ]
    },
    {
      "cell_type": "code",
      "execution_count": null,
      "metadata": {
        "id": "jV4OisYwIXSd"
      },
      "outputs": [],
      "source": [
        "# Your fractal tree parameters\n",
        "tree_axiom = \"F\"  # Start with a single trunk\n",
        "tree_rules = {\"F\": \"F[+F]F[-F]F\"}  # Basic branching rule\n",
        "tree_iterations = 3\n",
        "tree_angle = 30\n",
        "\n",
        "# Generate and draw\n",
        "setup_turtle()\n",
        "t.pensize(2)\n",
        "tree_instructions = create_l_system(tree_iterations, tree_axiom, tree_rules)\n",
        "draw_l_system(tree_instructions, tree_angle, 10)"
      ]
    },
    {
      "cell_type": "markdown",
      "metadata": {
        "id": "2oXgfoIrIXSd"
      },
      "source": [
        "### Challenge Tasks:\n",
        "1. Modify the rules to create more realistic branching\n",
        "2. Add different colors for different parts of the tree\n",
        "3. Try to create a tree with varying branch lengths\n",
        "4. Experiment with asymmetric branching patterns\n",
        "\n",
        "## Additional Experiments\n",
        "Here are some ideas for further exploration:\n",
        "- Create a snowflake pattern\n",
        "- Generate a spiral pattern\n",
        "- Implement a dragon curve\n",
        "- Create a forest of different trees\n",
        "\n",
        "Tips:\n",
        "- Higher iterations create more complex patterns but take longer to draw\n",
        "- Small changes in rules can create dramatically different results\n",
        "- The angle parameter greatly affects the final appearance\n",
        "- Remember to close turtle windows between experiments"
      ]
    }
  ],
  "metadata": {
    "kernelspec": {
      "display_name": "iat460",
      "language": "python",
      "name": "python3"
    },
    "language_info": {
      "codemirror_mode": {
        "name": "ipython",
        "version": 3
      },
      "file_extension": ".py",
      "mimetype": "text/x-python",
      "name": "python",
      "nbconvert_exporter": "python",
      "pygments_lexer": "ipython3",
      "version": "3.9.21"
    },
    "colab": {
      "provenance": []
    }
  },
  "nbformat": 4,
  "nbformat_minor": 0
}